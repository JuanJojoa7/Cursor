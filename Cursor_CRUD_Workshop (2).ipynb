{
  "cells": [
    {
      "cell_type": "markdown",
      "id": "9fbb9d65",
      "metadata": {
        "id": "9fbb9d65"
      },
      "source": [
        "# Taller práctico: CRUD con Cursor (Guía detallada y prompts profesionales)\n",
        "\n",
        "**Descripción:** Notebook que contiene una guía paso a paso y *prompts profesionales* (inspirados en la guía de OpenAI) para usar **Cursor** como agente de código y construir una aplicación CRUD (To-Do App) con frontend y backend. Cada prompt está pensado para que Cursor pueda ejecutar, crear o modificar archivos por sí mismo.\n",
        "\n",
        "**Archivo generado:** `Cursor_CRUD_Workshop.ipynb`\n",
        "\n",
        "---"
      ]
    },
    {
      "cell_type": "markdown",
      "id": "57b09130",
      "metadata": {
        "id": "57b09130"
      },
      "source": [
        "## 🎯 Objetivos\n",
        "\n",
        "- Enseñar cómo usar Cursor como **agente de desarrollo** para crear, refactorizar y documentar un proyecto completo.\n",
        "- Proveer **prompts profesionales** y reproducibles siguiendo las mejores prácticas del *GPT-4.1 Prompting Guide* (persistencia, tool-calling, planificación).\n",
        "- Entregar un flujo completo: creación de proyecto, API backend (Express), frontend (React + Vite + Tailwind), pruebas básicas, refactorización y documentación.\n",
        "\n",
        "---"
      ]
    },
    {
      "cell_type": "markdown",
      "id": "bc0031b5",
      "metadata": {
        "id": "bc0031b5"
      },
      "source": [
        "## ⚙️ Requisitos previos (para el instructor)\n",
        "\n",
        "- Tener instalado Node.js (v16+), npm o pnpm.\n",
        "- Cursor con permisos para editar archivos del proyecto (el agente podrá crear/editar archivos).\n",
        "- Entorno local con terminal integrado (para mostrar `npm run dev` y `node server.js`).\n",
        "\n",
        "> Nota: el notebook contiene *prompts* para Cursor; el agente ejecutará las acciones en el editor. Aquí mostramos texto, prompts y código de ejemplo para referencia y copia/pegado.\n",
        "\n",
        "---"
      ]
    },
    {
      "cell_type": "markdown",
      "id": "b90582cb",
      "metadata": {
        "id": "b90582cb"
      },
      "source": [
        "## 1) Crear la estructura inicial del proyecto\n",
        "\n",
        "**Prompt profesional (para ejecutar en Cursor):**\n",
        "\n",
        "```\n",
        "TASK: Scaffold a simple full-stack CRUD project using Node.js and React.\n",
        "\n",
        "Context:\n",
        "We’ll create a minimal “To-Do List” app. The backend will be an Express server with routes to manage tasks (GET, POST, PUT, DELETE) using a local `tasks.json` file. The frontend will be a React app created using `create-react-app` that communicates with the backend via HTTP requests.\n",
        "\n",
        "Requirements:\n",
        "1. Create two folders: `backend/` and `frontend/`.\n",
        "2. Initialize a Node.js project in `backend/` and install dependencies (`express`, `cors`, `uuid`, `fs`).\n",
        "3. In `frontend/`, initialize a React app using `npx create-react-app .`.\n",
        "4. Add a `.gitignore` file and README with instructions.\n",
        "\n",
        "Plan:\n",
        "1. Create `backend/server.js` with Express boilerplate.\n",
        "2. Add CORS middleware to allow requests from `http://localhost:3000`.\n",
        "3. Create `frontend/` with React basic structure.\n",
        "4. Confirm that both can run independently:\n",
        "   - `node backend/server.js`\n",
        "   - `npm start` inside `frontend/`\n",
        "\n",
        "\n",
        "```\n",
        "\n",
        "**Por qué funciona:** este prompt incluye contexto, requisitos, un plan solicitado y restricciones — principios recomendados por la guía de OpenAI.\n",
        "\n",
        "---"
      ]
    },
    {
      "cell_type": "markdown",
      "id": "9e16edc4",
      "metadata": {
        "id": "9e16edc4"
      },
      "source": [
        "## 2) Backend: prompts detallados y fragmentos esperados\n",
        "\n",
        "### Prompt para crear `server.js` (Express + CRUD con JSON persistente)\n",
        "\n",
        "```\n",
        "TASK: Implement a simple CRUD API in `backend/server.js`.\n",
        "\n",
        "Requirements:\n",
        "- Use Express to create endpoints:\n",
        "  - GET /tasks → returns all tasks\n",
        "  - POST /tasks → adds a task with `{ id, title, completed }`\n",
        "  - PUT /tasks/:id → updates an existing task\n",
        "  - DELETE /tasks/:id → removes a task\n",
        "- Store tasks in a local JSON file `backend/tasks.json` (array of objects).\n",
        "- Include error handling and data validation (title must be string, non-empty).\n",
        "- Enable CORS for `http://localhost:3000`.\n",
        "- Use `uuid` for IDs.\n",
        "- Log server activity to the console.\n",
        "\n",
        "Example structure:\n",
        "\n",
        "backend/\n",
        "├─ server.js\n",
        "├─ tasks.json\n",
        "└─ package.json\n",
        "\n",
        "\n",
        "Deliverables:\n",
        "- Fully functional CRUD endpoints\n",
        "- Console log on start: “Server running on port 5000”\n",
        "\n",
        "```\n",
        "\n",
        "\n",
        "\n",
        "\n",
        "// ...PUT and DELETE similar\n",
        "\n",
        "app.listen(3000, () => console.log('Server running on port 3000'));\n",
        "```\n",
        "\n",
        "---"
      ]
    },
    {
      "cell_type": "markdown",
      "id": "9580a77f",
      "metadata": {
        "id": "9580a77f"
      },
      "source": [
        "## 3) Frontend: prompt visual detallado y componentes\n",
        "\n",
        "**Meta:** El frontend debe verse moderno y atractivo. Usaremos Tailwind para styling y componentes sencillos. El prompt debe guiar a Cursor para que genere un diseño visual interesante, accesible y responsivo.\n",
        "\n",
        "### Prompt para crear el frontend visual (React + Tailwind)\n",
        "\n",
        "```\n",
        "TASK: Create a minimal React frontend for the To-Do app.\n",
        "\n",
        "Context:\n",
        "We already have an API running on `http://localhost:5000/tasks`. The goal is to build a simple interface that can list, create, update, and delete tasks.\n",
        "\n",
        "Requirements:\n",
        "1. Use functional components and React hooks (useState, useEffect).\n",
        "2. Create files:\n",
        "   - `src/App.js`\n",
        "   - `src/components/TaskList.js`\n",
        "   - `src/components/TaskForm.js`\n",
        "3. Connect to the backend API with `fetch`.\n",
        "4. Keep styling minimal using plain CSS (App.css). Use soft colors, borders, and hover effects.\n",
        "5. UI layout:\n",
        "   - Title “To-Do List”\n",
        "   - Input and “Add Task” button\n",
        "   - List of tasks with “Edit” and “Delete” buttons\n",
        "   - Mark task as completed with checkbox\n",
        "6. Ensure the app remains functional even if the backend is not running (show fallback state).\n",
        "\n",
        "Plan:\n",
        "1. Build TaskForm to handle new tasks.\n",
        "2. Build TaskList to render all tasks and manage update/delete.\n",
        "3. Integrate both into App.js and test with live backend.\n",
        "4. Test all CRUD operations end-to-end.\n",
        "\n",
        "```\n",
        "\n",
        "**Comentario:** Este prompt es específico, incluye requisitos visuales, el endpoint objetivo y un plan. Está diseñado para que el agente genere UI con buena estética.\n",
        "\n",
        "---"
      ]
    },
    {
      "cell_type": "markdown",
      "id": "97358543",
      "metadata": {
        "id": "97358543"
      },
      "source": [
        "## 4) Refactorización y documentación automática\n",
        "\n",
        "### Prompt para pedir a Cursor que refactorice y documente:\n",
        "\n",
        "```\n",
        "TASK: Review and refactor the project code.\n",
        "\n",
        "Goals:\n",
        "1. Improve readability, add comments, and ensure consistent code style.\n",
        "2. Add JSDoc comments for backend route handlers.\n",
        "3. Generate a simple README.md summarizing:\n",
        "   - How to start backend\n",
        "   - How to start frontend\n",
        "   - Example API requests\n",
        "\n",
        "Plan:\n",
        "1. Review backend files for redundant code and simplify.\n",
        "2. Check frontend components for reusability.\n",
        "3. Generate final README.md and confirm all commands work.\n",
        "\n",
        "```\n",
        "\n",
        "**Prompt para generar pruebas unitarias básicas (opcional):**\n",
        "\n",
        "```\n",
        "TASK: Add basic tests to the backend using Jest.\n",
        "\n",
        "Requirements:\n",
        "- Create a file `backend/tests/tasks.test.js`.\n",
        "- Mock fs module to test CRUD operations without touching the real file.\n",
        "- Test each route’s status code and response format.\n",
        "\n",
        "Plan:\n",
        "1. Install Jest (`npm install jest --save-dev`).\n",
        "2. Add “test” script to package.json.\n",
        "3. Create mock data and test CRUD operations.\n",
        "\n",
        "```\n",
        "\n",
        "---"
      ]
    },
    {
      "cell_type": "markdown",
      "id": "c82a548a",
      "metadata": {
        "id": "c82a548a"
      },
      "source": [
        "## 5) Prompts de interacción cortos (para usar durante el taller)\n",
        "\n",
        "Estos son prompts más cortos y directos que el instructor puede usar en vivo:\n",
        "\n",
        "- *Crear sólo endpoint específico*: `Cursor, añade un endpoint GET /tasks/overdue que devuelva tareas con campo dueDate < today.`\n",
        "- *Refactor*: `Cursor, extrae la lógica de lectura/escritura de tasks a un módulo `data/tasks.js` y actualiza las rutas para usarlo.`\n",
        "- *Documentar*: `Cursor, genera JSDoc para todas las funciones en backend and append a short usage example in README.`\n",
        "- *UI tweak*: `Cursor, cambia el esquema de colores a tonos morado-rosado y aumenta el tamaño de la fuente del header a 1.5rem.`\n",
        "\n",
        "---"
      ]
    },
    {
      "cell_type": "markdown",
      "id": "37dc3cbc",
      "metadata": {
        "id": "37dc3cbc"
      },
      "source": [
        "## 6) Comandos y verificación (para mostrar en la demo)\n",
        "\n",
        "### Backend\n",
        "```bash\n",
        "cd backend\n",
        "npm install express cors uuid\n",
        "node server.js\n",
        "# o, si se inicializó package.json\n",
        "npm install\n",
        "npm start\n",
        "```\n",
        "\n",
        "### Frontend\n",
        "```bash\n",
        "cd frontend\n",
        "npm install\n",
        "npm run dev\n",
        "# abrir http://localhost:5173\n",
        "```\n",
        "\n",
        "### Curl examples\n",
        "```bash\n",
        "# List\n",
        "curl http://localhost:3000/tasks\n",
        "# Create\n",
        "curl -X POST http://localhost:3000/tasks -H 'Content-Type: application/json' -d '{\"title\":\"Comprar leche\"}'\n",
        "# Update\n",
        "curl -X PUT http://localhost:3000/tasks/<id> -H 'Content-Type: application/json' -d '{\"title\":\"Nueva\", \"completed\": true}'\n",
        "# Delete\n",
        "curl -X DELETE http://localhost:3000/tasks/<id>\n",
        "```\n",
        "\n",
        "---"
      ]
    },
    {
      "cell_type": "markdown",
      "id": "a6487f2d",
      "metadata": {
        "id": "a6487f2d"
      },
      "source": [
        "## 7) Plantillas profesionales de prompts (resumen)\n",
        "\n",
        "**Template: Agentic coding task**\n",
        "```\n",
        "SYSTEM: [use the System Prompt defined earlier]\n",
        "USER: You are given the task: <brief summary of feature/bug>. Constraints: <list constraints>. Deliverables: <files to create or modify>. Plan: produce a 3-5 step plan, then implement. After each change, run tests or show verification commands. Iterate until success.\n",
        "```\n",
        "\n",
        "**Template: UI styling request**\n",
        "```\n",
        "You are an assistant that modifies UI code. Goal: <visual objective>. Provide the exact CSS/Tailwind classes you will apply and the files you will update. Show before/after snippets.\n",
        "```\n",
        "\n",
        "---"
      ]
    },
    {
      "cell_type": "markdown",
      "source": [
        "\n",
        "1. **¿En qué parte del proceso (creación del backend, frontend o refactorización) consideras que Cursor aportó más valor como asistente de desarrollo?**\n",
        "\n",
        "2. **¿Qué tan importante crees que es escribir prompts claros y estructurados al trabajar con un agente de código como Cursor, y por qué?**\n",
        "\n",
        "3. **Después de este taller, cómo cambiaría tu forma de abordar un proyecto de programación al contar con herramientas de IA integradas en tu entorno?**\n"
      ],
      "metadata": {
        "id": "5jYAwFl-Kc-Z"
      },
      "id": "5jYAwFl-Kc-Z"
    }
  ],
  "metadata": {
    "colab": {
      "provenance": []
    }
  },
  "nbformat": 4,
  "nbformat_minor": 5
}